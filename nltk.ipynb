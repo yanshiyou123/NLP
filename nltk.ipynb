{
  "nbformat": 4,
  "nbformat_minor": 0,
  "metadata": {
    "colab": {
      "provenance": [],
      "toc_visible": true,
      "authorship_tag": "ABX9TyPaWVOAEcchEG6elaYBtxnn",
      "include_colab_link": true
    },
    "kernelspec": {
      "name": "python3",
      "display_name": "Python 3"
    },
    "language_info": {
      "name": "python"
    }
  },
  "cells": [
    {
      "cell_type": "markdown",
      "metadata": {
        "id": "view-in-github",
        "colab_type": "text"
      },
      "source": [
        "<a href=\"https://colab.research.google.com/github/yanshiyou123/NLP/blob/main/nltk.ipynb\" target=\"_parent\"><img src=\"https://colab.research.google.com/assets/colab-badge.svg\" alt=\"Open In Colab\"/></a>"
      ]
    },
    {
      "cell_type": "markdown",
      "source": [
        "# CS 6320.001 NLP Shiyou Yan\n",
        "# NLTK"
      ],
      "metadata": {
        "id": "qnHb2zL971rU"
      }
    },
    {
      "cell_type": "code",
      "source": [
        "import nltk\n",
        "nltk.download('stopwords')\n",
        "nltk.download('wordnet')\n",
        "nltk.download('punkt')\n",
        "nltk.download('omw-1.4')"
      ],
      "metadata": {
        "colab": {
          "base_uri": "https://localhost:8080/"
        },
        "id": "Wg8HaT158J10",
        "outputId": "6787e116-c30d-42d1-e7c5-d81e97c55641"
      },
      "execution_count": null,
      "outputs": [
        {
          "output_type": "stream",
          "name": "stderr",
          "text": [
            "[nltk_data] Downloading package stopwords to /root/nltk_data...\n",
            "[nltk_data]   Package stopwords is already up-to-date!\n",
            "[nltk_data] Downloading package wordnet to /root/nltk_data...\n",
            "[nltk_data]   Package wordnet is already up-to-date!\n",
            "[nltk_data] Downloading package punkt to /root/nltk_data...\n",
            "[nltk_data]   Package punkt is already up-to-date!\n",
            "[nltk_data] Downloading package omw-1.4 to /root/nltk_data...\n",
            "[nltk_data]   Package omw-1.4 is already up-to-date!\n"
          ]
        },
        {
          "output_type": "execute_result",
          "data": {
            "text/plain": [
              "True"
            ]
          },
          "metadata": {},
          "execution_count": 29
        }
      ]
    },
    {
      "cell_type": "markdown",
      "source": [
        "3. Extract the first 20 tokens from text1. List two things you learned about the tokens() method or Text objects from looking through the code:\n",
        "\n",
        "\n",
        "* Tokens() is not a method in NLTK but a property or an\n",
        "attribute. The .tokens attribute can be used to access the list of tokens (words and punctuation) in the text.\n",
        "* Text class includes several useful methods for text analysis, such as concordance() and count() method.\n",
        "\n"
      ],
      "metadata": {
        "id": "BcLLErZrI6MR"
      }
    },
    {
      "cell_type": "code",
      "source": [
        "from nltk.corpus import (\n",
        "    genesis,\n",
        "    gutenberg,\n",
        "    inaugural,\n",
        "    nps_chat,\n",
        "    treebank,\n",
        "    webtext,\n",
        "    wordnet,\n",
        ")\n",
        "from nltk.probability import FreqDist\n",
        "from nltk.text import Text\n",
        "from nltk.util import bigrams\n",
        "\n",
        "text1 = Text(gutenberg.words(\"melville-moby_dick.txt\"))\n",
        "first_20_tokens = text1.tokens[:20]\n",
        "print(first_20_tokens)\n",
        "\n"
      ],
      "metadata": {
        "colab": {
          "base_uri": "https://localhost:8080/"
        },
        "id": "pRXl2vrAM7lo",
        "outputId": "373d1db3-0005-4c74-9b75-2da353c30e1c"
      },
      "execution_count": null,
      "outputs": [
        {
          "output_type": "stream",
          "name": "stdout",
          "text": [
            "['[', 'Moby', 'Dick', 'by', 'Herman', 'Melville', '1851', ']', 'ETYMOLOGY', '.', '(', 'Supplied', 'by', 'a', 'Late', 'Consumptive', 'Usher', 'to', 'a', 'Grammar']\n"
          ]
        }
      ]
    },
    {
      "cell_type": "markdown",
      "source": [
        "4. Print a concordance for text1 word 'sea', selecting only 5 lines."
      ],
      "metadata": {
        "id": "ll-XqyQK5M1g"
      }
    },
    {
      "cell_type": "code",
      "source": [
        "text1.concordance('sea', lines=5)"
      ],
      "metadata": {
        "colab": {
          "base_uri": "https://localhost:8080/"
        },
        "id": "9oI1lLbF7AAY",
        "outputId": "10ff8016-dca7-4db1-ea5c-8bceede566b6"
      },
      "execution_count": null,
      "outputs": [
        {
          "output_type": "stream",
          "name": "stdout",
          "text": [
            "Displaying 5 of 455 matches:\n",
            " shall slay the dragon that is in the sea .\" -- ISAIAH \" And what thing soever \n",
            " S PLUTARCH ' S MORALS . \" The Indian Sea breedeth the most and the biggest fis\n",
            "cely had we proceeded two days on the sea , when about sunrise a great many Wha\n",
            "many Whales and other monsters of the sea , appeared . Among the former , one w\n",
            " waves on all sides , and beating the sea before him into a foam .\" -- TOOKE ' \n"
          ]
        }
      ]
    },
    {
      "cell_type": "markdown",
      "source": [
        "5. Look at the count() method in the API. How does this work, and how is it different or the same as Python's count method?\n",
        "\n",
        "Answer: count() method in the API counts the occurrences of a specific word (in this case, 'sea') within the Text object. However,Python's count method counts the number of times an element (in this case, the string 'sea') appears in the list.\n",
        "\n",
        "\n"
      ],
      "metadata": {
        "id": "uqUr9kFr7fxS"
      }
    },
    {
      "cell_type": "code",
      "source": [
        "# prompt: Look at the count() method in the API. How does this work, and how is it different or the same as Python's count method?\n",
        "\n",
        "print(text1.count('sea'))\n",
        "print(text1.tokens.count('sea'))\n"
      ],
      "metadata": {
        "colab": {
          "base_uri": "https://localhost:8080/"
        },
        "id": "y8hUx3K97tFN",
        "outputId": "55c6c35b-1a80-4d1d-ee68-f1ba55c72092"
      },
      "execution_count": null,
      "outputs": [
        {
          "output_type": "stream",
          "name": "stdout",
          "text": [
            "433\n",
            "433\n"
          ]
        }
      ]
    },
    {
      "cell_type": "markdown",
      "source": [
        "6. Using raw text of at least 5 sentences of your choice from any source (list the source), save the text into a variable called raw_text. Using NLTK's word tokenizer, tokenize the text into variable 'tokens'. Print the first 10 tokens"
      ],
      "metadata": {
        "id": "UA3TC_fHAiGG"
      }
    },
    {
      "cell_type": "code",
      "source": [
        "import nltk\n",
        "# My source is from austen-sense.txt (text2 from nltk.text)\n",
        "raw_text = \"\"\"By a former marriage, Mr. Henry Dashwood had one\n",
        "son: by his present lady, three daughters.  The son,\n",
        "a steady respectable young man, was amply provided\n",
        "for by the fortune of his mother, which had been large,\n",
        "and half of which devolved on him on his coming of age.\n",
        "By his own marriage, likewise, which happened soon afterwards,\n",
        "he added to his wealth.  To him therefore the succession\n",
        "to the Norland estate was not so really important as to\n",
        "his sisters; for their fortune, independent of what might\n",
        "arise to them from their father's inheriting that property,\n",
        "could be but small.  Their mother had nothing, and their\n",
        "father only seven thousand pounds in his own disposal;\n",
        "for the remaining moiety of his first wife's fortune was\n",
        "also secured to her child, and he had only a life-interest\n",
        "in it.\n",
        "\"\"\"\n",
        "from nltk.tokenize import word_tokenize\n",
        "tokens = nltk.word_tokenize(raw_text)\n",
        "print(tokens[:10])"
      ],
      "metadata": {
        "colab": {
          "base_uri": "https://localhost:8080/"
        },
        "id": "LrYKZEdlApk6",
        "outputId": "1dc5a9b7-a7a1-4f4d-ffd5-c061a562b395"
      },
      "execution_count": null,
      "outputs": [
        {
          "output_type": "stream",
          "name": "stdout",
          "text": [
            "['By', 'a', 'former', 'marriage', ',', 'Mr.', 'Henry', 'Dashwood', 'had', 'one']\n"
          ]
        }
      ]
    },
    {
      "cell_type": "markdown",
      "source": [
        "7. Using the same raw text, and NLTK's sentence tokenizer sent_tokenize(), perform\n",
        "sentence segmentation and display the sentences."
      ],
      "metadata": {
        "id": "lbBV5Pm5FK4f"
      }
    },
    {
      "cell_type": "code",
      "source": [
        "from nltk.tokenize import sent_tokenize\n",
        "\n",
        "raw_text = \"\"\"By a former marriage, Mr. Henry Dashwood had one\n",
        "son: by his present lady, three daughters.  The son,\n",
        "a steady respectable young man, was amply provided\n",
        "for by the fortune of his mother, which had been large,\n",
        "and half of which devolved on him on his coming of age.\n",
        "By his own marriage, likewise, which happened soon afterwards,\n",
        "he added to his wealth.  To him therefore the succession\n",
        "to the Norland estate was not so really important as to\n",
        "his sisters; for their fortune, independent of what might\n",
        "arise to them from their father's inheriting that property,\n",
        "could be but small.  Their mother had nothing, and their\n",
        "father only seven thousand pounds in his own disposal;\n",
        "for the remaining moiety of his first wife's fortune was\n",
        "also secured to her child, and he had only a life-interest\n",
        "in it.\n",
        "\"\"\"\n",
        "sentences = sent_tokenize(raw_text)\n",
        "\n",
        "for sentence in sentences:\n",
        "    print(sentence + '\\n')\n"
      ],
      "metadata": {
        "colab": {
          "base_uri": "https://localhost:8080/"
        },
        "id": "IS17YFUVGCAU",
        "outputId": "c7946f35-6587-418d-f356-91fe1df3703f"
      },
      "execution_count": null,
      "outputs": [
        {
          "output_type": "stream",
          "name": "stdout",
          "text": [
            "By a former marriage, Mr. Henry Dashwood had one\n",
            "son: by his present lady, three daughters.\n",
            "\n",
            "The son,\n",
            "a steady respectable young man, was amply provided\n",
            "for by the fortune of his mother, which had been large,\n",
            "and half of which devolved on him on his coming of age.\n",
            "\n",
            "By his own marriage, likewise, which happened soon afterwards,\n",
            "he added to his wealth.\n",
            "\n",
            "To him therefore the succession\n",
            "to the Norland estate was not so really important as to\n",
            "his sisters; for their fortune, independent of what might\n",
            "arise to them from their father's inheriting that property,\n",
            "could be but small.\n",
            "\n",
            "Their mother had nothing, and their\n",
            "father only seven thousand pounds in his own disposal;\n",
            "for the remaining moiety of his first wife's fortune was\n",
            "also secured to her child, and he had only a life-interest\n",
            "in it.\n",
            "\n"
          ]
        }
      ]
    },
    {
      "cell_type": "markdown",
      "source": [
        "8. Using NLTK's PorterStemmer(), write a list comprehension to stem the text. Display\n",
        "the list."
      ],
      "metadata": {
        "id": "KmW86pk-JkEv"
      }
    },
    {
      "cell_type": "code",
      "source": [
        "from nltk.stem import PorterStemmer\n",
        "\n",
        "\n",
        "text = [\"eating\", \"eats\", \"walking\", \"walks\", \"meeting\", \"drinks\", \"drinking\", \"sleeps\", \"sleeping\",\"goose\"]\n",
        "stemmer = PorterStemmer()\n",
        "stemmed_tokens = [stemmer.stem(token) for token in text]\n",
        "print(stemmed_tokens)\n"
      ],
      "metadata": {
        "colab": {
          "base_uri": "https://localhost:8080/"
        },
        "id": "E3YJutkuJkTe",
        "outputId": "9dca46c7-3cea-4e2b-bbc4-133a1387b438"
      },
      "execution_count": null,
      "outputs": [
        {
          "output_type": "stream",
          "name": "stdout",
          "text": [
            "['eat', 'eat', 'walk', 'walk', 'meet', 'drink', 'drink', 'sleep', 'sleep', 'goos']\n"
          ]
        }
      ]
    },
    {
      "cell_type": "markdown",
      "source": [
        "9. Using NLTK's WordNetLemmatizer, write a list comprehension to lemmatize the text.\n",
        "Display the list. In the text cell above this code cell, list at least 5 differences you see in the\n",
        "stems verses the lemmas.\n",
        "   \n",
        "* Stem: \"runn\" Lemma: \"run\"\n",
        "* Stem: \"better\" Lemma: \"good\"\n",
        "* Stem: \"goose\" Lemma: \"geese\"\n",
        "* Stem: \"teeth\" Lemma: \"tooth\"\n",
        "* Stem: \"mice\" Lemma: \"mouse\"\n",
        "\n",
        "\n",
        "\n",
        "\n",
        "\n",
        "\n"
      ],
      "metadata": {
        "id": "dvAFSvejM-3p"
      }
    },
    {
      "cell_type": "code",
      "source": [
        "from nltk.stem import WordNetLemmatizer\n",
        "\n",
        "text = [\"runn\", \"geese\", \"better\", \"teeth\", \"mice\"]\n",
        "wn = WordNetLemmatizer()\n",
        "lemmatized_tokens = [wn.lemmatize(token, pos=\"n\") for token in text]  # \"pos='v'\" is for verb\n",
        "print(lemmatized_tokens)\n",
        "\n",
        "\n"
      ],
      "metadata": {
        "colab": {
          "base_uri": "https://localhost:8080/"
        },
        "id": "7aaGl8TGNCJ2",
        "outputId": "0ab33c0b-e231-496a-8b9c-ced98be865f9"
      },
      "execution_count": null,
      "outputs": [
        {
          "output_type": "stream",
          "name": "stdout",
          "text": [
            "['runn', 'goose', 'better', 'teeth', 'mouse']\n"
          ]
        }
      ]
    },
    {
      "cell_type": "markdown",
      "source": [
        "10. Write a brief text outlining:\n",
        "a. your opinion of the functionality of the NLTK library\n",
        "b. your opinion of the code quality of the NLTK library\n",
        "\n",
        "\n",
        "1.   I think it is one of most powerful and important libraries in Python. It strongly supports for tasks like tokenization, part-of-speech tagging, stemming, lemmatization\n",
        "2.   The code quality of NLTK in my opinion is generally seen as good. It suitables for learning, research, and prototyping\n"
      ],
      "metadata": {
        "id": "-wuFGeF4g2aY"
      }
    }
  ]
}