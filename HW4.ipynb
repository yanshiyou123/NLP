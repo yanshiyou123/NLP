{
  "nbformat": 4,
  "nbformat_minor": 0,
  "metadata": {
    "colab": {
      "provenance": [],
      "gpuType": "T4",
      "authorship_tag": "ABX9TyPDJWumsooCp9xfZufAni3G",
      "include_colab_link": true
    },
    "kernelspec": {
      "name": "python3",
      "display_name": "Python 3"
    },
    "language_info": {
      "name": "python"
    },
    "accelerator": "GPU"
  },
  "cells": [
    {
      "cell_type": "markdown",
      "metadata": {
        "id": "view-in-github",
        "colab_type": "text"
      },
      "source": [
        "<a href=\"https://colab.research.google.com/github/yanshiyou123/NLP/blob/main/HW4.ipynb\" target=\"_parent\"><img src=\"https://colab.research.google.com/assets/colab-badge.svg\" alt=\"Open In Colab\"/></a>"
      ]
    },
    {
      "cell_type": "markdown",
      "source": [
        "6320NLP HW4\n",
        "\n",
        "Author: Shiyou Yan\n",
        "\n",
        "The dataset consists of text data sourced from social media platforms, each labeled with specific emotions like happiness, sadness, anger, or fear. The model's task is to predict the emotion conveyed in a given text. Due to the dataset's large size of 393,822 instances, only the first 20,000 instances are selected for training and testing purposes."
      ],
      "metadata": {
        "id": "5vY6n7ZHxY6f"
      }
    },
    {
      "cell_type": "code",
      "source": [
        "import pandas as pd\n",
        "import matplotlib.pyplot as plt\n",
        "import tensorflow as tf\n",
        "import keras\n",
        "import string\n",
        "import nltk\n",
        "from nltk.corpus import stopwords\n",
        "from keras.preprocessing.text import Tokenizer\n",
        "from sklearn.model_selection import train_test_split\n",
        "from keras import layers\n",
        "from keras.models import Sequential\n",
        "from keras.utils import to_categorical\n",
        "\n",
        "# download stopwrods\n",
        "nltk.download('stopwords')\n",
        "# load data\n",
        "data = pd.read_csv('emotion.csv')\n",
        "\n",
        "# drop\n",
        "data = data.drop(data.columns[0], axis=1)\n",
        "print(data.head())\n",
        "\n",
        "\n",
        "label_names = {0: 'sadness', 1: 'joy', 2: 'love', 3: 'anger', 4: 'fear', 5: 'surprise'}\n",
        "data['label'] = data['label'].map(label_names)\n",
        "\n",
        "# plot label distribution\n",
        "plt.figure(figsize=(8, 6))\n",
        "data['label'].value_counts().plot(kind='bar')\n",
        "plt.title('Label Distribution in Training Set')\n",
        "plt.show()\n",
        "\n",
        "# preprocess\n",
        "def preprocess(text):\n",
        "    text = text.lower()\n",
        "    text = ''.join([char for char in text if char not in string.punctuation])  # Remove punctuation\n",
        "    words_cleaned = text.split()\n",
        "    words_cleaned = ' '.join([word for word in words_cleaned if word not in stopwords.words('english')])  # Remove stopwords\n",
        "    return words_cleaned\n",
        "\n",
        "tokenizer = Tokenizer()\n",
        "data['text'] = data['text'].apply(preprocess)\n",
        "texts_cleaned = data['text']\n",
        "print(texts_cleaned.head())\n",
        "\n",
        "# split into train/test\n",
        "X_train, X_test, y_train, y_test = train_test_split(texts_cleaned, data['label'], test_size=0.2, random_state=42)\n",
        "\n",
        "\n",
        "# tokenize\n",
        "tokenizer.fit_on_texts(X_train)\n",
        "X_train_seq = tokenizer.texts_to_sequences(X_train)\n",
        "X_test_seq = tokenizer.texts_to_sequences(X_test)\n",
        "max_length = max([len(seq) for seq in X_train_seq])\n",
        "X_train_padded = keras.preprocessing.sequence.pad_sequences(X_train_seq, maxlen=max_length)\n",
        "X_test_padded = keras.preprocessing.sequence.pad_sequences(X_test_seq, maxlen=max_length)\n",
        "\n",
        "# sequential model and evaluate on the test data\n",
        "# RNN, CNN, LSTM\n",
        "RNN_model = Sequential([\n",
        "        layers.Embedding(input_dim=len(tokenizer.word_index) + 1, output_dim=64, mask_zero=True),\n",
        "        layers.SimpleRNN(64),\n",
        "        layers.Dense(6, activation='softmax')\n",
        "    ])\n",
        "\n",
        "CNN_model = Sequential([\n",
        "        layers.Embedding(input_dim=len(tokenizer.word_index) + 1, output_dim=64, input_length=X_train_padded.shape[1]),\n",
        "        layers.Conv1D(128, 5, activation='relu'),\n",
        "        layers.GlobalMaxPooling1D(),\n",
        "        layers.Dense(6, activation='softmax')\n",
        "    ])\n",
        "\n",
        "\n",
        "LSTM_model = Sequential([\n",
        "        layers.Embedding(input_dim=len(tokenizer.word_index) + 1, output_dim=64, mask_zero=True),\n",
        "        layers.LSTM(64),\n",
        "        layers.Dense(6, activation='softmax')\n",
        "    ])\n",
        "\n",
        "\n",
        "# Compile RNN model\n",
        "\n",
        "label_names = {v: k for k, v in label_names.items()}\n",
        "y_train_encoded = y_train.map(label_names)\n",
        "y_test_encoded = y_test.map(label_names)\n",
        "\n",
        "\n",
        "RNN_model.compile(optimizer='adam', loss='sparse_categorical_crossentropy', metrics=['accuracy'])\n",
        "CNN_model.compile(optimizer='adam', loss='sparse_categorical_crossentropy', metrics=['accuracy'])\n",
        "LSTM_model.compile(optimizer='adam', loss='sparse_categorical_crossentropy', metrics=['accuracy'])\n",
        "# Train RNN model\n",
        "\n",
        "RNN_model.fit(X_train_padded, y_train_encoded, epochs=10, validation_data=(X_test_padded, y_test_encoded))\n",
        "CNN_model.fit(X_train_padded, y_train_encoded, epochs=10, validation_data=(X_test_padded, y_test_encoded))\n",
        "LSTM_model.fit(X_train_padded, y_train_encoded, epochs=10, validation_data=(X_test_padded, y_test_encoded))\n",
        "# Evaluate RNN model on test data\n",
        "loss, accuracy = RNN_model.evaluate(X_test_padded, y_test_encoded)\n",
        "print(f'RNN Model Test Loss: {loss:.4f}')\n",
        "print(f'RNN Model Test Accuracy: {accuracy:.4f}')\n",
        "# Evaluate CNN model on test data\n",
        "loss, accuracy = CNN_model.evaluate(X_test_padded, y_test_encoded)\n",
        "print(f'CNN Model Test Loss: {loss:.4f}')\n",
        "print(f'CNN Model Test Accuracy: {accuracy:.4f}')\n",
        "# Evaluate LSTM model on test data\n",
        "loss, accuracy = LSTM_model.evaluate(X_test_padded, y_test_encoded)\n",
        "print(f'LSTM Model Test Loss: {loss:.4f}')\n",
        "print(f'LSTM Model Test Accuracy: {accuracy:.4f}')"
      ],
      "metadata": {
        "colab": {
          "base_uri": "https://localhost:8080/",
          "height": 1000
        },
        "id": "2HOQuFbnG1GD",
        "outputId": "bb023f56-6620-4601-8723-945455d50feb"
      },
      "execution_count": null,
      "outputs": [
        {
          "output_type": "stream",
          "name": "stderr",
          "text": [
            "[nltk_data] Downloading package stopwords to /root/nltk_data...\n",
            "[nltk_data]   Package stopwords is already up-to-date!\n"
          ]
        },
        {
          "output_type": "stream",
          "name": "stdout",
          "text": [
            "                                                text  label\n",
            "0      i just feel really helpless and heavy hearted      4\n",
            "1  ive enjoyed being able to slouch about relax a...      0\n",
            "2  i gave up my internship with the dmrg and am f...      4\n",
            "3                         i dont know i feel so lost      0\n",
            "4  i am a kindergarten teacher and i am thoroughl...      4\n"
          ]
        },
        {
          "output_type": "display_data",
          "data": {
            "text/plain": [
              "<Figure size 800x600 with 1 Axes>"
            ],
            "image/png": "[encoded data removed]"
          },
          "metadata": {}
        },
        {
          "output_type": "stream",
          "name": "stdout",
          "text": [
            "0                   feel really helpless heavy hearted\n",
            "1    ive enjoyed able slouch relax unwind frankly n...\n",
            "2              gave internship dmrg feeling distraught\n",
            "3                                  dont know feel lost\n",
            "4    kindergarten teacher thoroughly weary job take...\n",
            "Name: text, dtype: object\n",
            "Epoch 1/10\n",
            "500/500 [==============================] - 33s 64ms/step - loss: 1.0963 - accuracy: 0.5969 - val_loss: 0.5081 - val_accuracy: 0.8325\n",
            "Epoch 2/10\n",
            "500/500 [==============================] - 16s 32ms/step - loss: 0.2837 - accuracy: 0.9081 - val_loss: 0.4732 - val_accuracy: 0.8385\n",
            "Epoch 3/10\n",
            "500/500 [==============================] - 16s 33ms/step - loss: 0.1233 - accuracy: 0.9624 - val_loss: 0.4804 - val_accuracy: 0.8422\n",
            "Epoch 4/10\n",
            "500/500 [==============================] - 17s 33ms/step - loss: 0.0664 - accuracy: 0.9791 - val_loss: 0.4910 - val_accuracy: 0.8543\n",
            "Epoch 5/10\n",
            "500/500 [==============================] - 15s 30ms/step - loss: 0.0455 - accuracy: 0.9858 - val_loss: 0.5418 - val_accuracy: 0.8453\n",
            "Epoch 6/10\n",
            "500/500 [==============================] - 15s 29ms/step - loss: 0.0411 - accuracy: 0.9876 - val_loss: 0.6795 - val_accuracy: 0.8292\n",
            "Epoch 7/10\n",
            "500/500 [==============================] - 14s 29ms/step - loss: 0.0325 - accuracy: 0.9905 - val_loss: 0.6613 - val_accuracy: 0.8355\n",
            "Epoch 8/10\n",
            "500/500 [==============================] - 14s 28ms/step - loss: 0.0363 - accuracy: 0.9883 - val_loss: 0.7106 - val_accuracy: 0.8342\n",
            "Epoch 9/10\n",
            "500/500 [==============================] - 15s 30ms/step - loss: 0.0303 - accuracy: 0.9906 - val_loss: 0.6820 - val_accuracy: 0.8410\n",
            "Epoch 10/10\n",
            "500/500 [==============================] - 15s 30ms/step - loss: 0.0244 - accuracy: 0.9926 - val_loss: 0.7483 - val_accuracy: 0.8255\n",
            "Epoch 1/10\n",
            "500/500 [==============================] - 15s 25ms/step - loss: 0.8044 - accuracy: 0.7032 - val_loss: 0.1849 - val_accuracy: 0.9230\n",
            "Epoch 2/10\n",
            "500/500 [==============================] - 3s 6ms/step - loss: 0.1252 - accuracy: 0.9461 - val_loss: 0.1589 - val_accuracy: 0.9270\n",
            "Epoch 3/10\n",
            "500/500 [==============================] - 3s 7ms/step - loss: 0.0630 - accuracy: 0.9760 - val_loss: 0.1846 - val_accuracy: 0.9243\n",
            "Epoch 4/10\n",
            "500/500 [==============================] - 3s 6ms/step - loss: 0.0376 - accuracy: 0.9864 - val_loss: 0.1912 - val_accuracy: 0.9252\n",
            "Epoch 5/10\n",
            "500/500 [==============================] - 3s 5ms/step - loss: 0.0245 - accuracy: 0.9920 - val_loss: 0.2144 - val_accuracy: 0.9245\n",
            "Epoch 6/10\n",
            "500/500 [==============================] - 2s 5ms/step - loss: 0.0204 - accuracy: 0.9933 - val_loss: 0.2250 - val_accuracy: 0.9227\n",
            "Epoch 7/10\n",
            "500/500 [==============================] - 2s 5ms/step - loss: 0.0182 - accuracy: 0.9937 - val_loss: 0.2649 - val_accuracy: 0.9178\n",
            "Epoch 8/10\n",
            "500/500 [==============================] - 3s 6ms/step - loss: 0.0165 - accuracy: 0.9944 - val_loss: 0.2684 - val_accuracy: 0.9200\n",
            "Epoch 9/10\n",
            "500/500 [==============================] - 2s 4ms/step - loss: 0.0168 - accuracy: 0.9945 - val_loss: 0.2711 - val_accuracy: 0.9158\n",
            "Epoch 10/10\n",
            "500/500 [==============================] - 2s 4ms/step - loss: 0.0142 - accuracy: 0.9956 - val_loss: 0.2885 - val_accuracy: 0.9208\n",
            "Epoch 1/10\n",
            "500/500 [==============================] - 35s 63ms/step - loss: 1.0066 - accuracy: 0.6353 - val_loss: 0.4836 - val_accuracy: 0.8440\n",
            "Epoch 2/10\n",
            "500/500 [==============================] - 23s 46ms/step - loss: 0.2249 - accuracy: 0.9256 - val_loss: 0.2658 - val_accuracy: 0.9057\n",
            "Epoch 3/10\n",
            "500/500 [==============================] - 22s 44ms/step - loss: 0.0983 - accuracy: 0.9659 - val_loss: 0.2539 - val_accuracy: 0.9107\n",
            "Epoch 4/10\n",
            "500/500 [==============================] - 20s 40ms/step - loss: 0.0579 - accuracy: 0.9799 - val_loss: 0.3708 - val_accuracy: 0.8852\n",
            "Epoch 5/10\n",
            "500/500 [==============================] - 22s 43ms/step - loss: 0.0453 - accuracy: 0.9841 - val_loss: 0.3365 - val_accuracy: 0.8955\n",
            "Epoch 6/10\n",
            "500/500 [==============================] - 21s 42ms/step - loss: 0.0388 - accuracy: 0.9871 - val_loss: 0.3116 - val_accuracy: 0.9010\n",
            "Epoch 7/10\n",
            "500/500 [==============================] - 22s 45ms/step - loss: 0.0304 - accuracy: 0.9894 - val_loss: 0.3162 - val_accuracy: 0.9028\n",
            "Epoch 8/10\n",
            "500/500 [==============================] - 20s 40ms/step - loss: 0.0230 - accuracy: 0.9906 - val_loss: 0.3908 - val_accuracy: 0.8970\n",
            "Epoch 9/10\n",
            "500/500 [==============================] - 21s 42ms/step - loss: 0.0247 - accuracy: 0.9914 - val_loss: 0.3627 - val_accuracy: 0.9022\n",
            "Epoch 10/10\n",
            "500/500 [==============================] - 21s 42ms/step - loss: 0.0218 - accuracy: 0.9914 - val_loss: 0.3906 - val_accuracy: 0.8978\n",
            "125/125 [==============================] - 1s 5ms/step - loss: 0.7483 - accuracy: 0.8255\n",
            "RNN Model Test Loss: 0.7483\n",
            "RNN Model Test Accuracy: 0.8255\n",
            "125/125 [==============================] - 0s 2ms/step - loss: 0.2885 - accuracy: 0.9208\n",
            "CNN Model Test Loss: 0.2885\n",
            "CNN Model Test Accuracy: 0.9208\n",
            "125/125 [==============================] - 1s 8ms/step - loss: 0.3906 - accuracy: 0.8978\n",
            "LSTM Model Test Loss: 0.3906\n",
            "LSTM Model Test Accuracy: 0.8978\n"
          ]
        }
      ]
    },
    {
      "cell_type": "markdown",
      "source": [
        "Analysis:\n",
        "\n",
        "After comprehensive testing, it was found that the CNN model achieved the highest test accuracy of 0.9208, followed by the LSTM model with an accuracy of 0.8978. The RNN model yielded a slightly lower accuracy of 0.8255. These results indicate that the CNN architecture performed best in capturing local patterns, while the LSTM excelled in modeling long-term dependencies. In the result, the CNN architecture was effective in capturing and recognizing the relevant patterns and features within the textual information, demonstrating its suitability for this particular sentiment analysis task."
      ],
      "metadata": {
        "id": "H6og9PEN3h1o"
      }
    }
  ]
}